{
 "cells": [
  {
   "cell_type": "markdown",
   "metadata": {
    "id": "8LmHV7W9GevP"
   },
   "source": [
    "# SA-2022 WEEK 3 GRADED ASSIGNMENT\n",
    "\n",
    "> Spaceship Titanic\n",
    "\n",
    "Predict which passengers are transported to an alternate dimension\n",
    "\n",
    "![](https://www.gannett-cdn.com/-mm-/682bf77435754aee88576469063388a7d8b07c2a/c=0-150-1280-873/local/-/media/2017/02/01/Reno/RGJ/636215634914521096-image001.jpg?width=660&height=373&fit=crop&format=pjpg&auto=webp)\n"
   ]
  },
  {
   "cell_type": "markdown",
   "metadata": {
    "id": "oLt5SCtVJpr3"
   },
   "source": [
    "### <b>Description</b>\n",
    "\n",
    "Welcome to the year 2912, where your data science skills are needed to solve a cosmic mystery. We've received a transmission from four lightyears away and things aren't looking good.\n",
    "\n",
    "The Spaceship Titanic was an interstellar passenger liner launched a month ago. With almost 13,000 passengers on board, the vessel set out on its maiden voyage transporting emigrants from our solar system to three newly habitable exoplanets orbiting nearby stars.\n",
    "\n",
    "While rounding Alpha Centauri en route to its first destination—the torrid 55 Cancri E—the unwary Spaceship Titanic collided with a spacetime anomaly hidden within a dust cloud. Sadly, it met a similar fate as its namesake from 1000 years before. Though the ship stayed intact, almost half of the passengers were transported to an alternate dimension!"
   ]
  },
  {
   "cell_type": "markdown",
   "metadata": {
    "id": "y9Gca7_uNwH0"
   },
   "source": [
    "### <b>Data description</b>\n",
    "\n",
    "- Personal records for about two-thirds (~8700) of the passengers, to be used as training data.\n",
    "- <code>PassengerId</code> - A unique Id for each passenger. Each Id takes the form gggg_pp where gggg indicates a group the passenger is travelling with and pp is their number within the group. People in a group are often family members, but not always.\n",
    "- <code>HomePlanet</code> - The planet the passenger departed from, typically their planet of permanent residence.\n",
    "- <code>CryoSleep</code> - Indicates whether the passenger elected to be put into suspended animation for the duration of the voyage. Passengers in cryosleep are confined to their cabins.\n",
    "- <code>Cabin</code> - The cabin number where the passenger is staying. Takes the form deck/num/side, where side can be either P for Port or S for Starboard.\n",
    "- <code>Destination</code> - The planet the passenger will be debarking to.\n",
    "- <code>Age</code> - The age of the passenger.\n",
    "- <code>VIP</code> - Whether the passenger has paid for special VIP service during the voyage.\n",
    "- <code>RoomService, FoodCourt, ShoppingMall, Spa, VRDeck</code> - Amount the passenger has billed at each of the Spaceship Titanic's many luxury amenities.\n",
    "- <code>Name</code> - The first and last names of the passenger.\n",
    "- <code>Transported</code> - Whether the passenger was transported to another dimension. This is the target, the column you are trying to predict.\n"
   ]
  },
  {
   "cell_type": "markdown",
   "metadata": {
    "id": "QFtglLAEN18g"
   },
   "source": [
    "### <b>Algorithm Documentation</b> (Highly recommended!)\n",
    "- <code>Logistic Regression</code> : https://scikit-learn.org/stable/modules/generated/sklearn.linear_model.LogisticRegression.html\n",
    "- <code>SVM</code> : https://scikit-learn.org/stable/modules/svm.html\n",
    "Confusion Matrix : https://scikit-learn.org/stable/modules/generated/sklearn.metrics.confusion_matrix.html\n",
    "- <code>Plot Confusion Matrix</code> : https://scikit-learn.org/stable/modules/generated/sklearn.metrics.plot_confusion_matrix.html\n",
    "- <code>ROC_AUC Score</code> : https://scikit-learn.org/stable/modules/generated/sklearn.metrics.roc_auc_score.html#sklearn.metrics.roc_auc_score\n",
    "- <code>Classification Report</code> : https://scikit-learn.org/stable/modules/generated/sklearn.metrics.classification_report.html\n",
    "- <code>Label Encoder</code> : https://scikit-learn.org/stable/modules/generated/sklearn.preprocessing.LabelEncoder.html\n",
    "- <code>Label Binarizer</code> : https://scikit-learn.org/stable/modules/generated/sklearn.preprocessing.LabelBinarizer.html\n",
    "- <code>Standard Scaler</code> : https://scikit-learn.org/stable/modules/generated/sklearn.preprocessing.StandardScaler.html\n",
    "- <code>Cross Val Score</code> : https://scikit-learn.org/stable/modules/generated/sklearn.model_selection.cross_val_score.html"
   ]
  },
  {
   "cell_type": "markdown",
   "metadata": {
    "id": "v7NbAQfaPzYu"
   },
   "source": [
    "# <span><h1 style = \"font-family: garamond; font-size: 40px; font-style: normal; letter-spcaing: 3px; background-color: #f6f5f5; color :#fe346e; border-radius: 100px 100px; text-align:center\">Install Required Libraries</h1></span>"
   ]
  },
  {
   "cell_type": "code",
   "execution_count": 112,
   "metadata": {
    "id": "xoIlRrQsOGUu"
   },
   "outputs": [],
   "source": [
    "## ======== YOUR CODE HERE ======== ##\n",
    "\n",
    "## Import numpy, pandas, matplotlib, seaborn\n",
    "import numpy as np\n",
    "import pandas as pd\n",
    "import seaborn as sns\n",
    "import matplotlib.pyplot as plt\n",
    "\n",
    "## Import Logistic regression and SVC\n",
    "from sklearn.linear_model import LogisticRegression\n",
    "from sklearn.svm import SVC\n",
    "\n",
    "## Import Confusion matrix, plot confusion matrix, classification report, accuracy score, auc-roc score and roc curve\n",
    "from sklearn.metrics import plot_confusion_matrix\n",
    "from sklearn.metrics import confusion_matrix\n",
    "from sklearn.metrics import classification_report\n",
    "from sklearn.metrics import accuracy_score\n",
    "from sklearn.metrics import roc_auc_score\n",
    "from sklearn.metrics import roc_curve\n",
    "\n",
    "## Import Label encoder, label binarizer and Standard Scaler\n",
    "from sklearn.preprocessing import LabelEncoder\n",
    "from sklearn.preprocessing import LabelBinarizer\n",
    "from sklearn.preprocessing import StandardScaler\n",
    "\n",
    "## ================================ ##\n",
    "\n",
    "from sklearn.model_selection import train_test_split\n",
    "from sklearn.model_selection import cross_val_score\n",
    "import warnings\n",
    "warnings.filterwarnings(\"ignore\")"
   ]
  },
  {
   "cell_type": "markdown",
   "metadata": {
    "id": "UH9QQTGtQR-O"
   },
   "source": [
    "#### Read the data"
   ]
  },
  {
   "cell_type": "code",
   "execution_count": 113,
   "metadata": {
    "id": "-zjNPzaNJh0J"
   },
   "outputs": [
    {
     "data": {
      "text/html": [
       "<div>\n",
       "<style scoped>\n",
       "    .dataframe tbody tr th:only-of-type {\n",
       "        vertical-align: middle;\n",
       "    }\n",
       "\n",
       "    .dataframe tbody tr th {\n",
       "        vertical-align: top;\n",
       "    }\n",
       "\n",
       "    .dataframe thead th {\n",
       "        text-align: right;\n",
       "    }\n",
       "</style>\n",
       "<table border=\"1\" class=\"dataframe\">\n",
       "  <thead>\n",
       "    <tr style=\"text-align: right;\">\n",
       "      <th></th>\n",
       "      <th>PassengerId</th>\n",
       "      <th>HomePlanet</th>\n",
       "      <th>CryoSleep</th>\n",
       "      <th>Cabin</th>\n",
       "      <th>Destination</th>\n",
       "      <th>Age</th>\n",
       "      <th>VIP</th>\n",
       "      <th>RoomService</th>\n",
       "      <th>FoodCourt</th>\n",
       "      <th>ShoppingMall</th>\n",
       "      <th>Spa</th>\n",
       "      <th>VRDeck</th>\n",
       "      <th>Name</th>\n",
       "      <th>Transported</th>\n",
       "    </tr>\n",
       "  </thead>\n",
       "  <tbody>\n",
       "    <tr>\n",
       "      <th>0</th>\n",
       "      <td>0001_01</td>\n",
       "      <td>Europa</td>\n",
       "      <td>False</td>\n",
       "      <td>B/0/P</td>\n",
       "      <td>Andromeda</td>\n",
       "      <td>39</td>\n",
       "      <td>False</td>\n",
       "      <td>0</td>\n",
       "      <td>0</td>\n",
       "      <td>0</td>\n",
       "      <td>0</td>\n",
       "      <td>0</td>\n",
       "      <td>Maham Ofracculy</td>\n",
       "      <td>False</td>\n",
       "    </tr>\n",
       "    <tr>\n",
       "      <th>1</th>\n",
       "      <td>0002_01</td>\n",
       "      <td>Earth</td>\n",
       "      <td>False</td>\n",
       "      <td>F/0/S</td>\n",
       "      <td>Andromeda</td>\n",
       "      <td>24</td>\n",
       "      <td>False</td>\n",
       "      <td>109</td>\n",
       "      <td>9</td>\n",
       "      <td>25</td>\n",
       "      <td>549</td>\n",
       "      <td>44</td>\n",
       "      <td>Juanna Vines</td>\n",
       "      <td>True</td>\n",
       "    </tr>\n",
       "    <tr>\n",
       "      <th>2</th>\n",
       "      <td>0003_01</td>\n",
       "      <td>Europa</td>\n",
       "      <td>False</td>\n",
       "      <td>A/0/S</td>\n",
       "      <td>Andromeda</td>\n",
       "      <td>58</td>\n",
       "      <td>True</td>\n",
       "      <td>43</td>\n",
       "      <td>3576</td>\n",
       "      <td>0</td>\n",
       "      <td>6715</td>\n",
       "      <td>49</td>\n",
       "      <td>Altark Susent</td>\n",
       "      <td>False</td>\n",
       "    </tr>\n",
       "    <tr>\n",
       "      <th>3</th>\n",
       "      <td>0003_02</td>\n",
       "      <td>Europa</td>\n",
       "      <td>False</td>\n",
       "      <td>A/0/S</td>\n",
       "      <td>Andromeda</td>\n",
       "      <td>33</td>\n",
       "      <td>False</td>\n",
       "      <td>0</td>\n",
       "      <td>1283</td>\n",
       "      <td>371</td>\n",
       "      <td>3329</td>\n",
       "      <td>193</td>\n",
       "      <td>Solam Susent</td>\n",
       "      <td>False</td>\n",
       "    </tr>\n",
       "    <tr>\n",
       "      <th>4</th>\n",
       "      <td>0004_01</td>\n",
       "      <td>Earth</td>\n",
       "      <td>False</td>\n",
       "      <td>F/1/S</td>\n",
       "      <td>Andromeda</td>\n",
       "      <td>16</td>\n",
       "      <td>False</td>\n",
       "      <td>303</td>\n",
       "      <td>70</td>\n",
       "      <td>151</td>\n",
       "      <td>565</td>\n",
       "      <td>2</td>\n",
       "      <td>Willy Santantines</td>\n",
       "      <td>True</td>\n",
       "    </tr>\n",
       "  </tbody>\n",
       "</table>\n",
       "</div>"
      ],
      "text/plain": [
       "  PassengerId HomePlanet  CryoSleep  Cabin Destination  Age    VIP  \\\n",
       "0     0001_01     Europa      False  B/0/P   Andromeda   39  False   \n",
       "1     0002_01      Earth      False  F/0/S   Andromeda   24  False   \n",
       "2     0003_01     Europa      False  A/0/S   Andromeda   58   True   \n",
       "3     0003_02     Europa      False  A/0/S   Andromeda   33  False   \n",
       "4     0004_01      Earth      False  F/1/S   Andromeda   16  False   \n",
       "\n",
       "   RoomService  FoodCourt  ShoppingMall   Spa  VRDeck               Name  \\\n",
       "0            0          0             0     0       0    Maham Ofracculy   \n",
       "1          109          9            25   549      44       Juanna Vines   \n",
       "2           43       3576             0  6715      49      Altark Susent   \n",
       "3            0       1283           371  3329     193       Solam Susent   \n",
       "4          303         70           151   565       2  Willy Santantines   \n",
       "\n",
       "   Transported  \n",
       "0        False  \n",
       "1         True  \n",
       "2        False  \n",
       "3        False  \n",
       "4         True  "
      ]
     },
     "execution_count": 113,
     "metadata": {},
     "output_type": "execute_result"
    }
   ],
   "source": [
    "## ======== YOUR CODE HERE ======== ##\n",
    "\n",
    "# Use df as the dataframe name throughout the notebook.\n",
    "\n",
    "df = pd.read_csv('data.csv') \n",
    "df.head()\n",
    "\n",
    "## ================================ ##"
   ]
  },
  {
   "cell_type": "markdown",
   "metadata": {
    "id": "TctF3H_SUePG"
   },
   "source": [
    "#### Check the shape of data. It should be  (8693, 14)"
   ]
  },
  {
   "cell_type": "code",
   "execution_count": 114,
   "metadata": {
    "id": "T5wuaGN7LY7M"
   },
   "outputs": [
    {
     "data": {
      "text/plain": [
       "(8693, 14)"
      ]
     },
     "execution_count": 114,
     "metadata": {},
     "output_type": "execute_result"
    }
   ],
   "source": [
    "## ======== YOUR CODE HERE ======== ##\n",
    "\n",
    "df.shape\n",
    "\n",
    "## ================================ ##"
   ]
  },
  {
   "cell_type": "markdown",
   "metadata": {
    "id": "qtkIiZmwUpDM"
   },
   "source": [
    "#### Apply describe on dataframe"
   ]
  },
  {
   "cell_type": "code",
   "execution_count": 115,
   "metadata": {
    "id": "oa9X6NTxQlzk"
   },
   "outputs": [
    {
     "data": {
      "text/html": [
       "<div>\n",
       "<style scoped>\n",
       "    .dataframe tbody tr th:only-of-type {\n",
       "        vertical-align: middle;\n",
       "    }\n",
       "\n",
       "    .dataframe tbody tr th {\n",
       "        vertical-align: top;\n",
       "    }\n",
       "\n",
       "    .dataframe thead th {\n",
       "        text-align: right;\n",
       "    }\n",
       "</style>\n",
       "<table border=\"1\" class=\"dataframe\">\n",
       "  <thead>\n",
       "    <tr style=\"text-align: right;\">\n",
       "      <th></th>\n",
       "      <th>Age</th>\n",
       "      <th>RoomService</th>\n",
       "      <th>FoodCourt</th>\n",
       "      <th>ShoppingMall</th>\n",
       "      <th>Spa</th>\n",
       "      <th>VRDeck</th>\n",
       "    </tr>\n",
       "  </thead>\n",
       "  <tbody>\n",
       "    <tr>\n",
       "      <th>count</th>\n",
       "      <td>8693.000000</td>\n",
       "      <td>8693.000000</td>\n",
       "      <td>8693.000000</td>\n",
       "      <td>8693.000000</td>\n",
       "      <td>8693.000000</td>\n",
       "      <td>8693.000000</td>\n",
       "    </tr>\n",
       "    <tr>\n",
       "      <th>mean</th>\n",
       "      <td>28.728517</td>\n",
       "      <td>220.009318</td>\n",
       "      <td>448.434027</td>\n",
       "      <td>169.572300</td>\n",
       "      <td>304.588865</td>\n",
       "      <td>298.261820</td>\n",
       "    </tr>\n",
       "    <tr>\n",
       "      <th>std</th>\n",
       "      <td>14.355438</td>\n",
       "      <td>660.519050</td>\n",
       "      <td>1595.790627</td>\n",
       "      <td>598.007164</td>\n",
       "      <td>1125.562559</td>\n",
       "      <td>1134.126417</td>\n",
       "    </tr>\n",
       "    <tr>\n",
       "      <th>min</th>\n",
       "      <td>0.000000</td>\n",
       "      <td>0.000000</td>\n",
       "      <td>0.000000</td>\n",
       "      <td>0.000000</td>\n",
       "      <td>0.000000</td>\n",
       "      <td>0.000000</td>\n",
       "    </tr>\n",
       "    <tr>\n",
       "      <th>25%</th>\n",
       "      <td>20.000000</td>\n",
       "      <td>0.000000</td>\n",
       "      <td>0.000000</td>\n",
       "      <td>0.000000</td>\n",
       "      <td>0.000000</td>\n",
       "      <td>0.000000</td>\n",
       "    </tr>\n",
       "    <tr>\n",
       "      <th>50%</th>\n",
       "      <td>27.000000</td>\n",
       "      <td>0.000000</td>\n",
       "      <td>0.000000</td>\n",
       "      <td>0.000000</td>\n",
       "      <td>0.000000</td>\n",
       "      <td>0.000000</td>\n",
       "    </tr>\n",
       "    <tr>\n",
       "      <th>75%</th>\n",
       "      <td>37.000000</td>\n",
       "      <td>41.000000</td>\n",
       "      <td>61.000000</td>\n",
       "      <td>22.000000</td>\n",
       "      <td>53.000000</td>\n",
       "      <td>40.000000</td>\n",
       "    </tr>\n",
       "    <tr>\n",
       "      <th>max</th>\n",
       "      <td>79.000000</td>\n",
       "      <td>14327.000000</td>\n",
       "      <td>29813.000000</td>\n",
       "      <td>23492.000000</td>\n",
       "      <td>22408.000000</td>\n",
       "      <td>24133.000000</td>\n",
       "    </tr>\n",
       "  </tbody>\n",
       "</table>\n",
       "</div>"
      ],
      "text/plain": [
       "               Age   RoomService     FoodCourt  ShoppingMall           Spa  \\\n",
       "count  8693.000000   8693.000000   8693.000000   8693.000000   8693.000000   \n",
       "mean     28.728517    220.009318    448.434027    169.572300    304.588865   \n",
       "std      14.355438    660.519050   1595.790627    598.007164   1125.562559   \n",
       "min       0.000000      0.000000      0.000000      0.000000      0.000000   \n",
       "25%      20.000000      0.000000      0.000000      0.000000      0.000000   \n",
       "50%      27.000000      0.000000      0.000000      0.000000      0.000000   \n",
       "75%      37.000000     41.000000     61.000000     22.000000     53.000000   \n",
       "max      79.000000  14327.000000  29813.000000  23492.000000  22408.000000   \n",
       "\n",
       "             VRDeck  \n",
       "count   8693.000000  \n",
       "mean     298.261820  \n",
       "std     1134.126417  \n",
       "min        0.000000  \n",
       "25%        0.000000  \n",
       "50%        0.000000  \n",
       "75%       40.000000  \n",
       "max    24133.000000  "
      ]
     },
     "execution_count": 115,
     "metadata": {},
     "output_type": "execute_result"
    }
   ],
   "source": [
    "## ======== YOUR CODE HERE ======== ##\n",
    "\n",
    "df.describe()\n",
    "\n",
    "## ================================ ##"
   ]
  },
  {
   "cell_type": "markdown",
   "metadata": {
    "id": "jtuqbR3LUsws"
   },
   "source": [
    "#### Check if there any null value in the dataset."
   ]
  },
  {
   "cell_type": "code",
   "execution_count": 116,
   "metadata": {
    "id": "NH6Ky_nqQxtE"
   },
   "outputs": [
    {
     "data": {
      "text/plain": [
       "PassengerId     0\n",
       "HomePlanet      0\n",
       "CryoSleep       0\n",
       "Cabin           0\n",
       "Destination     0\n",
       "Age             0\n",
       "VIP             0\n",
       "RoomService     0\n",
       "FoodCourt       0\n",
       "ShoppingMall    0\n",
       "Spa             0\n",
       "VRDeck          0\n",
       "Name            0\n",
       "Transported     0\n",
       "dtype: int64"
      ]
     },
     "execution_count": 116,
     "metadata": {},
     "output_type": "execute_result"
    }
   ],
   "source": [
    "## ======== YOUR CODE HERE ======== ##\n",
    "\n",
    "df.isna().sum()\n",
    "\n",
    "## ================================ ##"
   ]
  },
  {
   "cell_type": "markdown",
   "metadata": {
    "id": "XA8O-zuLU00Q"
   },
   "source": [
    "#### Number continuous and categorical features"
   ]
  },
  {
   "cell_type": "code",
   "execution_count": 117,
   "metadata": {
    "id": "bnEHaL-cUUQ4"
   },
   "outputs": [
    {
     "name": "stdout",
     "output_type": "stream",
     "text": [
      "Continous Features:  ['Age', 'RoomService', 'FoodCourt', 'ShoppingMall', 'Spa', 'VRDeck']\n",
      "No. of Continuous features:  6\n",
      "Categorical Features:  ['PassengerId', 'Name', 'Cabin', 'HomePlanet', 'CryoSleep', 'Destination', 'VIP']\n",
      "No. of Categorical Features:  7\n"
     ]
    }
   ],
   "source": [
    "#################################################################\n",
    "\n",
    "# Don't make mistake here. Ask in the discussion section if you are stuck. Help will be provided....\n",
    "\n",
    "#################################################################\n",
    "\n",
    "## ======== YOUR CODE HERE ======== ##\n",
    "\n",
    "continous_features = ['Age', 'RoomService', 'FoodCourt', 'ShoppingMall', 'Spa', 'VRDeck'] # Fill the continuous fearures inside the array\n",
    "categorical_features = ['PassengerId', 'Name', 'Cabin', 'HomePlanet', 'CryoSleep', 'Destination', 'VIP'] # Fill the categorical features inside the array\n",
    "\n",
    "# for i in df.columns:\n",
    "#     print(df[i].nunique())\n",
    "#     if df[i].nunique() <= 5 : categorical_features.append(i)\n",
    "#     else : continous_features.append(i)\n",
    "\n",
    "\n",
    "## ======== YOUR CODE HERE ======== ##\n",
    "\n",
    "print(\"Continous Features: \", continous_features)\n",
    "print(\"No. of Continuous features: \", len(continous_features))\n",
    "\n",
    "print(\"Categorical Features: \", categorical_features)\n",
    "print(\"No. of Categorical Features: \", len(categorical_features))"
   ]
  },
  {
   "cell_type": "markdown",
   "metadata": {
    "id": "nvbf6praYa0l"
   },
   "source": [
    "#### Unique values"
   ]
  },
  {
   "cell_type": "code",
   "execution_count": 118,
   "metadata": {
    "id": "YHRaNXWuZecT"
   },
   "outputs": [
    {
     "name": "stdout",
     "output_type": "stream",
     "text": [
      "PassengerId  ->  8693\n",
      "Name  ->  8473\n",
      "Cabin  ->  6560\n",
      "HomePlanet  ->  3\n",
      "CryoSleep  ->  2\n",
      "Destination  ->  3\n",
      "VIP  ->  2\n"
     ]
    }
   ],
   "source": [
    "# Print the number of unique values of the categorical features\n",
    "\n",
    "## ======== YOUR CODE HERE ======== ##\n",
    "\n",
    "for i in categorical_features:\n",
    "    print(i, \" -> \", df[i].nunique())\n",
    "\n",
    "## ======== YOUR CODE HERE ======== ##"
   ]
  },
  {
   "cell_type": "markdown",
   "metadata": {
    "id": "0oojkTXNbSsU"
   },
   "source": [
    "<code>Note: If we apply one-hot-encoding to a categorical feature with many unique values, </code>\n",
    "- Number of columns will be high\n",
    "- Time required for training a model will be high\n",
    "- We may not get usefull insights about the data\n",
    "\n",
    "<code>This is the reason we are droping the features with more unique values.</code>\n"
   ]
  },
  {
   "cell_type": "markdown",
   "metadata": {
    "id": "cDThwpZKdjKT"
   },
   "source": [
    "#### Drop the features"
   ]
  },
  {
   "cell_type": "code",
   "execution_count": 119,
   "metadata": {
    "id": "s1wMTAeJdqQb"
   },
   "outputs": [
    {
     "name": "stdout",
     "output_type": "stream",
     "text": [
      "(8693, 11)\n"
     ]
    }
   ],
   "source": [
    "# Drop those categorical features which have more than 25 unique values\n",
    "\n",
    "## ======== YOUR CODE HERE ======== ##\n",
    "\n",
    "df.drop(['PassengerId', 'Name', 'Cabin'], axis=1, inplace=True)\n",
    "\n",
    "## ======== YOUR CODE HERE ======== ##\n",
    "\n",
    "# Print the shape after droping the features\n",
    "# Check: Shape --> (8693, 11)\n",
    "\n",
    "## ======== YOUR CODE HERE ======== ##\n",
    "\n",
    "print(df.shape)\n",
    "\n",
    "## ======== YOUR CODE HERE ======== ##"
   ]
  },
  {
   "cell_type": "markdown",
   "metadata": {
    "id": "k6giFKFeevim"
   },
   "source": [
    "#### One Hot Encoding"
   ]
  },
  {
   "cell_type": "code",
   "execution_count": 120,
   "metadata": {
    "id": "3BVX8hQhW8JT"
   },
   "outputs": [
    {
     "data": {
      "text/plain": [
       "(8693, 15)"
      ]
     },
     "execution_count": 120,
     "metadata": {},
     "output_type": "execute_result"
    }
   ],
   "source": [
    "# Hint: search for get_dummies\n",
    "\n",
    "## ======== YOUR CODE HERE ======== ##\n",
    "\n",
    "df = pd.get_dummies(df)\n",
    "\n",
    "## ======== YOUR CODE HERE ======== ##\n",
    "\n",
    "df.shape\n",
    "\n",
    "# Check: Shape --> (8693, 15)"
   ]
  },
  {
   "cell_type": "markdown",
   "metadata": {
    "id": "9_HhXZhJjJrC"
   },
   "source": [
    "#### Changing bool columns to 0,1"
   ]
  },
  {
   "cell_type": "code",
   "execution_count": 121,
   "metadata": {
    "id": "6BGjAjk5emqP"
   },
   "outputs": [
    {
     "data": {
      "text/html": [
       "<div>\n",
       "<style scoped>\n",
       "    .dataframe tbody tr th:only-of-type {\n",
       "        vertical-align: middle;\n",
       "    }\n",
       "\n",
       "    .dataframe tbody tr th {\n",
       "        vertical-align: top;\n",
       "    }\n",
       "\n",
       "    .dataframe thead th {\n",
       "        text-align: right;\n",
       "    }\n",
       "</style>\n",
       "<table border=\"1\" class=\"dataframe\">\n",
       "  <thead>\n",
       "    <tr style=\"text-align: right;\">\n",
       "      <th></th>\n",
       "      <th>CryoSleep</th>\n",
       "      <th>Age</th>\n",
       "      <th>VIP</th>\n",
       "      <th>RoomService</th>\n",
       "      <th>FoodCourt</th>\n",
       "      <th>ShoppingMall</th>\n",
       "      <th>Spa</th>\n",
       "      <th>VRDeck</th>\n",
       "      <th>Transported</th>\n",
       "      <th>HomePlanet_Earth</th>\n",
       "      <th>HomePlanet_Europa</th>\n",
       "      <th>HomePlanet_Mars</th>\n",
       "      <th>Destination_Andromeda</th>\n",
       "      <th>Destination_Cygnus</th>\n",
       "      <th>Destination_Virgo</th>\n",
       "    </tr>\n",
       "  </thead>\n",
       "  <tbody>\n",
       "    <tr>\n",
       "      <th>0</th>\n",
       "      <td>0</td>\n",
       "      <td>39</td>\n",
       "      <td>0</td>\n",
       "      <td>0</td>\n",
       "      <td>0</td>\n",
       "      <td>0</td>\n",
       "      <td>0</td>\n",
       "      <td>0</td>\n",
       "      <td>0</td>\n",
       "      <td>0</td>\n",
       "      <td>1</td>\n",
       "      <td>0</td>\n",
       "      <td>1</td>\n",
       "      <td>0</td>\n",
       "      <td>0</td>\n",
       "    </tr>\n",
       "    <tr>\n",
       "      <th>1</th>\n",
       "      <td>0</td>\n",
       "      <td>24</td>\n",
       "      <td>0</td>\n",
       "      <td>109</td>\n",
       "      <td>9</td>\n",
       "      <td>25</td>\n",
       "      <td>549</td>\n",
       "      <td>44</td>\n",
       "      <td>1</td>\n",
       "      <td>1</td>\n",
       "      <td>0</td>\n",
       "      <td>0</td>\n",
       "      <td>1</td>\n",
       "      <td>0</td>\n",
       "      <td>0</td>\n",
       "    </tr>\n",
       "    <tr>\n",
       "      <th>2</th>\n",
       "      <td>0</td>\n",
       "      <td>58</td>\n",
       "      <td>1</td>\n",
       "      <td>43</td>\n",
       "      <td>3576</td>\n",
       "      <td>0</td>\n",
       "      <td>6715</td>\n",
       "      <td>49</td>\n",
       "      <td>0</td>\n",
       "      <td>0</td>\n",
       "      <td>1</td>\n",
       "      <td>0</td>\n",
       "      <td>1</td>\n",
       "      <td>0</td>\n",
       "      <td>0</td>\n",
       "    </tr>\n",
       "    <tr>\n",
       "      <th>3</th>\n",
       "      <td>0</td>\n",
       "      <td>33</td>\n",
       "      <td>0</td>\n",
       "      <td>0</td>\n",
       "      <td>1283</td>\n",
       "      <td>371</td>\n",
       "      <td>3329</td>\n",
       "      <td>193</td>\n",
       "      <td>0</td>\n",
       "      <td>0</td>\n",
       "      <td>1</td>\n",
       "      <td>0</td>\n",
       "      <td>1</td>\n",
       "      <td>0</td>\n",
       "      <td>0</td>\n",
       "    </tr>\n",
       "    <tr>\n",
       "      <th>4</th>\n",
       "      <td>0</td>\n",
       "      <td>16</td>\n",
       "      <td>0</td>\n",
       "      <td>303</td>\n",
       "      <td>70</td>\n",
       "      <td>151</td>\n",
       "      <td>565</td>\n",
       "      <td>2</td>\n",
       "      <td>1</td>\n",
       "      <td>1</td>\n",
       "      <td>0</td>\n",
       "      <td>0</td>\n",
       "      <td>1</td>\n",
       "      <td>0</td>\n",
       "      <td>0</td>\n",
       "    </tr>\n",
       "  </tbody>\n",
       "</table>\n",
       "</div>"
      ],
      "text/plain": [
       "   CryoSleep  Age  VIP  RoomService  FoodCourt  ShoppingMall   Spa  VRDeck  \\\n",
       "0          0   39    0            0          0             0     0       0   \n",
       "1          0   24    0          109          9            25   549      44   \n",
       "2          0   58    1           43       3576             0  6715      49   \n",
       "3          0   33    0            0       1283           371  3329     193   \n",
       "4          0   16    0          303         70           151   565       2   \n",
       "\n",
       "   Transported  HomePlanet_Earth  HomePlanet_Europa  HomePlanet_Mars  \\\n",
       "0            0                 0                  1                0   \n",
       "1            1                 1                  0                0   \n",
       "2            0                 0                  1                0   \n",
       "3            0                 0                  1                0   \n",
       "4            1                 1                  0                0   \n",
       "\n",
       "   Destination_Andromeda  Destination_Cygnus  Destination_Virgo  \n",
       "0                      1                   0                  0  \n",
       "1                      1                   0                  0  \n",
       "2                      1                   0                  0  \n",
       "3                      1                   0                  0  \n",
       "4                      1                   0                  0  "
      ]
     },
     "execution_count": 121,
     "metadata": {},
     "output_type": "execute_result"
    }
   ],
   "source": [
    "## ======== Run this code(Don't change any code)======== ##\n",
    "\n",
    "df['CryoSleep'] = df['CryoSleep'].astype(int)\n",
    "df['VIP'] = df['VIP'].astype(int)\n",
    "df['Transported'] = df['Transported'].astype(int)\n",
    "\n",
    "df.head()\n",
    "\n",
    "## ======== Run this code(Don't change any code)======== ##\n"
   ]
  },
  {
   "cell_type": "markdown",
   "metadata": {
    "id": "vz-ytNV0jRmi"
   },
   "source": [
    "#### Split the data into train and test"
   ]
  },
  {
   "cell_type": "code",
   "execution_count": 122,
   "metadata": {
    "id": "zMuBNwpWhZRy"
   },
   "outputs": [],
   "source": [
    "## ======== YOUR CODE HERE ======== ##\n",
    " \n",
    "## Test size should be 15% of the full dataset and use random state = 2022\n",
    "\n",
    "y = df['Transported']\n",
    "df.drop(['Transported'], axis=1, inplace=True)\n",
    "X = df\n",
    "\n",
    "X_train, X_test, y_train, y_test = train_test_split(X,y,test_size=0.15,random_state=2022)\n",
    "\n",
    "## ================================ ##"
   ]
  },
  {
   "cell_type": "code",
   "execution_count": 123,
   "metadata": {
    "id": "VAD29hRbjgYY"
   },
   "outputs": [
    {
     "name": "stdout",
     "output_type": "stream",
     "text": [
      "X_train: (7389, 14)\n",
      "X_test: (1304, 14)\n",
      "y_train: (7389,)\n",
      "y_test: (1304,)\n"
     ]
    }
   ],
   "source": [
    "## ======== YOUR CODE HERE ======== ##\n",
    "\n",
    "   ## Let us print the shapes:\n",
    "    \n",
    "print(\"X_train:\", X_train.shape) # X_train\n",
    "print(\"X_test:\", X_test.shape) # X_test\n",
    "print(\"y_train:\", y_train.shape) # y_train\n",
    "print(\"y_test:\", y_test.shape) # y_test\n",
    "\n",
    "## ================================ ##"
   ]
  },
  {
   "cell_type": "markdown",
   "metadata": {
    "id": "bIjWDrnEjpia"
   },
   "source": [
    "#### Scale the data using Standard Scaler"
   ]
  },
  {
   "cell_type": "code",
   "execution_count": 124,
   "metadata": {
    "id": "naPlXlFhjkkI"
   },
   "outputs": [],
   "source": [
    "## Use Standard Scaler to scale the train and test data\n",
    "\n",
    "## ======== YOUR CODE HERE ======== ##\n",
    "\n",
    "scaler = StandardScaler()\n",
    "X_train_scaled = scaler.fit_transform(X_train)\n",
    "X_test_scaled = scaler.transform(X_test)\n",
    "\n",
    "## ================================ ##"
   ]
  },
  {
   "cell_type": "markdown",
   "metadata": {
    "id": "5LQ24wfSjv0c"
   },
   "source": [
    "## <b>Logistic Regression</b>\n",
    "#### Use default parameters unless mentioned"
   ]
  },
  {
   "cell_type": "code",
   "execution_count": 125,
   "metadata": {
    "id": "Q_05utrBjsEY"
   },
   "outputs": [
    {
     "data": {
      "text/html": [
       "<style>#sk-container-id-6 {color: black;background-color: white;}#sk-container-id-6 pre{padding: 0;}#sk-container-id-6 div.sk-toggleable {background-color: white;}#sk-container-id-6 label.sk-toggleable__label {cursor: pointer;display: block;width: 100%;margin-bottom: 0;padding: 0.3em;box-sizing: border-box;text-align: center;}#sk-container-id-6 label.sk-toggleable__label-arrow:before {content: \"▸\";float: left;margin-right: 0.25em;color: #696969;}#sk-container-id-6 label.sk-toggleable__label-arrow:hover:before {color: black;}#sk-container-id-6 div.sk-estimator:hover label.sk-toggleable__label-arrow:before {color: black;}#sk-container-id-6 div.sk-toggleable__content {max-height: 0;max-width: 0;overflow: hidden;text-align: left;background-color: #f0f8ff;}#sk-container-id-6 div.sk-toggleable__content pre {margin: 0.2em;color: black;border-radius: 0.25em;background-color: #f0f8ff;}#sk-container-id-6 input.sk-toggleable__control:checked~div.sk-toggleable__content {max-height: 200px;max-width: 100%;overflow: auto;}#sk-container-id-6 input.sk-toggleable__control:checked~label.sk-toggleable__label-arrow:before {content: \"▾\";}#sk-container-id-6 div.sk-estimator input.sk-toggleable__control:checked~label.sk-toggleable__label {background-color: #d4ebff;}#sk-container-id-6 div.sk-label input.sk-toggleable__control:checked~label.sk-toggleable__label {background-color: #d4ebff;}#sk-container-id-6 input.sk-hidden--visually {border: 0;clip: rect(1px 1px 1px 1px);clip: rect(1px, 1px, 1px, 1px);height: 1px;margin: -1px;overflow: hidden;padding: 0;position: absolute;width: 1px;}#sk-container-id-6 div.sk-estimator {font-family: monospace;background-color: #f0f8ff;border: 1px dotted black;border-radius: 0.25em;box-sizing: border-box;margin-bottom: 0.5em;}#sk-container-id-6 div.sk-estimator:hover {background-color: #d4ebff;}#sk-container-id-6 div.sk-parallel-item::after {content: \"\";width: 100%;border-bottom: 1px solid gray;flex-grow: 1;}#sk-container-id-6 div.sk-label:hover label.sk-toggleable__label {background-color: #d4ebff;}#sk-container-id-6 div.sk-serial::before {content: \"\";position: absolute;border-left: 1px solid gray;box-sizing: border-box;top: 0;bottom: 0;left: 50%;z-index: 0;}#sk-container-id-6 div.sk-serial {display: flex;flex-direction: column;align-items: center;background-color: white;padding-right: 0.2em;padding-left: 0.2em;position: relative;}#sk-container-id-6 div.sk-item {position: relative;z-index: 1;}#sk-container-id-6 div.sk-parallel {display: flex;align-items: stretch;justify-content: center;background-color: white;position: relative;}#sk-container-id-6 div.sk-item::before, #sk-container-id-6 div.sk-parallel-item::before {content: \"\";position: absolute;border-left: 1px solid gray;box-sizing: border-box;top: 0;bottom: 0;left: 50%;z-index: -1;}#sk-container-id-6 div.sk-parallel-item {display: flex;flex-direction: column;z-index: 1;position: relative;background-color: white;}#sk-container-id-6 div.sk-parallel-item:first-child::after {align-self: flex-end;width: 50%;}#sk-container-id-6 div.sk-parallel-item:last-child::after {align-self: flex-start;width: 50%;}#sk-container-id-6 div.sk-parallel-item:only-child::after {width: 0;}#sk-container-id-6 div.sk-dashed-wrapped {border: 1px dashed gray;margin: 0 0.4em 0.5em 0.4em;box-sizing: border-box;padding-bottom: 0.4em;background-color: white;}#sk-container-id-6 div.sk-label label {font-family: monospace;font-weight: bold;display: inline-block;line-height: 1.2em;}#sk-container-id-6 div.sk-label-container {text-align: center;}#sk-container-id-6 div.sk-container {/* jupyter's `normalize.less` sets `[hidden] { display: none; }` but bootstrap.min.css set `[hidden] { display: none !important; }` so we also need the `!important` here to be able to override the default hidden behavior on the sphinx rendered scikit-learn.org. See: https://github.com/scikit-learn/scikit-learn/issues/21755 */display: inline-block !important;position: relative;}#sk-container-id-6 div.sk-text-repr-fallback {display: none;}</style><div id=\"sk-container-id-6\" class=\"sk-top-container\"><div class=\"sk-text-repr-fallback\"><pre>LogisticRegression(random_state=2021)</pre><b>In a Jupyter environment, please rerun this cell to show the HTML representation or trust the notebook. <br />On GitHub, the HTML representation is unable to render, please try loading this page with nbviewer.org.</b></div><div class=\"sk-container\" hidden><div class=\"sk-item\"><div class=\"sk-estimator sk-toggleable\"><input class=\"sk-toggleable__control sk-hidden--visually\" id=\"sk-estimator-id-6\" type=\"checkbox\" checked><label for=\"sk-estimator-id-6\" class=\"sk-toggleable__label sk-toggleable__label-arrow\">LogisticRegression</label><div class=\"sk-toggleable__content\"><pre>LogisticRegression(random_state=2021)</pre></div></div></div></div></div>"
      ],
      "text/plain": [
       "LogisticRegression(random_state=2021)"
      ]
     },
     "execution_count": 125,
     "metadata": {},
     "output_type": "execute_result"
    }
   ],
   "source": [
    "## Use Random state = 2021 and fit the LR model\n",
    "\n",
    "## ======== YOUR CODE HERE ======== ##\n",
    "\n",
    "logreg = LogisticRegression(random_state=2021)\n",
    "logreg.fit(X_train_scaled,y_train)\n",
    "\n",
    "## ================================ ##"
   ]
  },
  {
   "cell_type": "markdown",
   "metadata": {
    "id": "tTnclsr6kGzY"
   },
   "source": [
    "#### Plot confusion matrix"
   ]
  },
  {
   "cell_type": "code",
   "execution_count": 126,
   "metadata": {
    "id": "OK6afSwBj_2S"
   },
   "outputs": [
    {
     "data": {
      "image/png": "[encoded data removed]",
      "text/plain": [
       "<Figure size 432x288 with 2 Axes>"
      ]
     },
     "metadata": {
      "needs_background": "light"
     },
     "output_type": "display_data"
    }
   ],
   "source": [
    "## ======== YOUR CODE HERE ======== ##\n",
    "\n",
    "plot_confusion_matrix(logreg, X_test_scaled, y_test)\n",
    "plt.show()\n",
    "\n",
    "## ================================ ##"
   ]
  },
  {
   "cell_type": "markdown",
   "metadata": {
    "id": "2CdCZHpZkdov"
   },
   "source": [
    "#### Print classification report"
   ]
  },
  {
   "cell_type": "code",
   "execution_count": 127,
   "metadata": {
    "id": "pLVPxS33kPlI"
   },
   "outputs": [
    {
     "name": "stdout",
     "output_type": "stream",
     "text": [
      "              precision    recall  f1-score   support\n",
      "\n",
      "           0       0.78      0.80      0.79       637\n",
      "           1       0.81      0.79      0.80       667\n",
      "\n",
      "    accuracy                           0.79      1304\n",
      "   macro avg       0.79      0.79      0.79      1304\n",
      "weighted avg       0.79      0.79      0.79      1304\n",
      "\n"
     ]
    }
   ],
   "source": [
    "## ======== YOUR CODE HERE ======== ##\n",
    "\n",
    "pred = logreg.predict(X_test_scaled)\n",
    "print(classification_report(y_test,pred))\n",
    "\n",
    "## ================================ ##"
   ]
  },
  {
   "cell_type": "markdown",
   "metadata": {
    "id": "dsCHjnQxlB6d"
   },
   "source": [
    "#### Print accuracy score"
   ]
  },
  {
   "cell_type": "code",
   "execution_count": 128,
   "metadata": {
    "id": "fn-CKB9Gkn9X"
   },
   "outputs": [
    {
     "data": {
      "text/plain": [
       "0.7944785276073619"
      ]
     },
     "execution_count": 128,
     "metadata": {},
     "output_type": "execute_result"
    }
   ],
   "source": [
    "## ======== YOUR CODE HERE ======== ##\n",
    "\n",
    "accuracy_score(y_test, pred)\n",
    " \n",
    "## ================================ ##"
   ]
  },
  {
   "cell_type": "markdown",
   "metadata": {
    "id": "GQXaQcUMlpuW"
   },
   "source": [
    "#### Print ROC-AUC score"
   ]
  },
  {
   "cell_type": "code",
   "execution_count": 129,
   "metadata": {
    "id": "peowPJH3lPQg"
   },
   "outputs": [
    {
     "data": {
      "text/plain": [
       "0.877197978718647"
      ]
     },
     "execution_count": 129,
     "metadata": {},
     "output_type": "execute_result"
    }
   ],
   "source": [
    "## ======== YOUR CODE HERE ======== ##\n",
    "\n",
    "## Note: Use predict_proba!!! Read documentation/google it\n",
    "\n",
    "score = logreg.predict_proba(X_test_scaled)[:, 1]\n",
    "roc_auc_score(y_test, score)\n",
    "\n",
    "## ================================ ##"
   ]
  },
  {
   "cell_type": "markdown",
   "metadata": {
    "id": "WxxoTYomqceD"
   },
   "source": [
    "#### Plot ROC-AUC Curve"
   ]
  },
  {
   "cell_type": "code",
   "execution_count": 130,
   "metadata": {
    "id": "pu-xnAORqhP1"
   },
   "outputs": [
    {
     "data": {
      "text/plain": [
       "Text(0, 0.5, 'True Positive rate')"
      ]
     },
     "execution_count": 130,
     "metadata": {},
     "output_type": "execute_result"
    },
    {
     "data": {
      "image/png": "[encoded data removed]",
      "text/plain": [
       "<Figure size 432x288 with 1 Axes>"
      ]
     },
     "metadata": {
      "needs_background": "light"
     },
     "output_type": "display_data"
    }
   ],
   "source": [
    "## ======== YOUR CODE HERE ======== ##\n",
    "\n",
    "## Set appropriate X label, Y label and Title for the graph\n",
    "\n",
    "fpr, tpr, thresholds = roc_curve(y_test, score, pos_label=1)\n",
    "plt.plot(fpr, tpr, linestyle='--',color='blue', label='Logistic Regression')\n",
    "plt.title('ROC curve')\n",
    "plt.xlabel('False Positive Rate')\n",
    "plt.ylabel('True Positive rate')\n",
    "\n",
    "## ================================ ##"
   ]
  },
  {
   "cell_type": "markdown",
   "metadata": {
    "id": "UvxDjUoNrjYN"
   },
   "source": [
    "#### Cross validation"
   ]
  },
  {
   "cell_type": "code",
   "execution_count": 142,
   "metadata": {
    "id": "Jvx57Bx_rjBn"
   },
   "outputs": [
    {
     "name": "stdout",
     "output_type": "stream",
     "text": [
      "[0.78619756 0.79364005 0.76792963 0.80243572 0.7731889 ]\n",
      "0.7846783746815171\n"
     ]
    }
   ],
   "source": [
    "## ======== YOUR CODE HERE ======== ##\n",
    "\n",
    "## cv=5 \n",
    "\n",
    "cv_score = cross_val_score(logreg, X_train_scaled, y_train, cv=5)\n",
    "print(cv_score)\n",
    "print(cv_score.mean())\n",
    "\n",
    "## ================================ ##"
   ]
  },
  {
   "cell_type": "markdown",
   "metadata": {
    "id": "7hQ6KaXenOtN"
   },
   "source": [
    "## <b>SVM</b>\n",
    "#### Use default parameters unless mentioned"
   ]
  },
  {
   "cell_type": "code",
   "execution_count": 132,
   "metadata": {
    "id": "CpY0U9gjmia_"
   },
   "outputs": [
    {
     "data": {
      "text/html": [
       "<style>#sk-container-id-7 {color: black;background-color: white;}#sk-container-id-7 pre{padding: 0;}#sk-container-id-7 div.sk-toggleable {background-color: white;}#sk-container-id-7 label.sk-toggleable__label {cursor: pointer;display: block;width: 100%;margin-bottom: 0;padding: 0.3em;box-sizing: border-box;text-align: center;}#sk-container-id-7 label.sk-toggleable__label-arrow:before {content: \"▸\";float: left;margin-right: 0.25em;color: #696969;}#sk-container-id-7 label.sk-toggleable__label-arrow:hover:before {color: black;}#sk-container-id-7 div.sk-estimator:hover label.sk-toggleable__label-arrow:before {color: black;}#sk-container-id-7 div.sk-toggleable__content {max-height: 0;max-width: 0;overflow: hidden;text-align: left;background-color: #f0f8ff;}#sk-container-id-7 div.sk-toggleable__content pre {margin: 0.2em;color: black;border-radius: 0.25em;background-color: #f0f8ff;}#sk-container-id-7 input.sk-toggleable__control:checked~div.sk-toggleable__content {max-height: 200px;max-width: 100%;overflow: auto;}#sk-container-id-7 input.sk-toggleable__control:checked~label.sk-toggleable__label-arrow:before {content: \"▾\";}#sk-container-id-7 div.sk-estimator input.sk-toggleable__control:checked~label.sk-toggleable__label {background-color: #d4ebff;}#sk-container-id-7 div.sk-label input.sk-toggleable__control:checked~label.sk-toggleable__label {background-color: #d4ebff;}#sk-container-id-7 input.sk-hidden--visually {border: 0;clip: rect(1px 1px 1px 1px);clip: rect(1px, 1px, 1px, 1px);height: 1px;margin: -1px;overflow: hidden;padding: 0;position: absolute;width: 1px;}#sk-container-id-7 div.sk-estimator {font-family: monospace;background-color: #f0f8ff;border: 1px dotted black;border-radius: 0.25em;box-sizing: border-box;margin-bottom: 0.5em;}#sk-container-id-7 div.sk-estimator:hover {background-color: #d4ebff;}#sk-container-id-7 div.sk-parallel-item::after {content: \"\";width: 100%;border-bottom: 1px solid gray;flex-grow: 1;}#sk-container-id-7 div.sk-label:hover label.sk-toggleable__label {background-color: #d4ebff;}#sk-container-id-7 div.sk-serial::before {content: \"\";position: absolute;border-left: 1px solid gray;box-sizing: border-box;top: 0;bottom: 0;left: 50%;z-index: 0;}#sk-container-id-7 div.sk-serial {display: flex;flex-direction: column;align-items: center;background-color: white;padding-right: 0.2em;padding-left: 0.2em;position: relative;}#sk-container-id-7 div.sk-item {position: relative;z-index: 1;}#sk-container-id-7 div.sk-parallel {display: flex;align-items: stretch;justify-content: center;background-color: white;position: relative;}#sk-container-id-7 div.sk-item::before, #sk-container-id-7 div.sk-parallel-item::before {content: \"\";position: absolute;border-left: 1px solid gray;box-sizing: border-box;top: 0;bottom: 0;left: 50%;z-index: -1;}#sk-container-id-7 div.sk-parallel-item {display: flex;flex-direction: column;z-index: 1;position: relative;background-color: white;}#sk-container-id-7 div.sk-parallel-item:first-child::after {align-self: flex-end;width: 50%;}#sk-container-id-7 div.sk-parallel-item:last-child::after {align-self: flex-start;width: 50%;}#sk-container-id-7 div.sk-parallel-item:only-child::after {width: 0;}#sk-container-id-7 div.sk-dashed-wrapped {border: 1px dashed gray;margin: 0 0.4em 0.5em 0.4em;box-sizing: border-box;padding-bottom: 0.4em;background-color: white;}#sk-container-id-7 div.sk-label label {font-family: monospace;font-weight: bold;display: inline-block;line-height: 1.2em;}#sk-container-id-7 div.sk-label-container {text-align: center;}#sk-container-id-7 div.sk-container {/* jupyter's `normalize.less` sets `[hidden] { display: none; }` but bootstrap.min.css set `[hidden] { display: none !important; }` so we also need the `!important` here to be able to override the default hidden behavior on the sphinx rendered scikit-learn.org. See: https://github.com/scikit-learn/scikit-learn/issues/21755 */display: inline-block !important;position: relative;}#sk-container-id-7 div.sk-text-repr-fallback {display: none;}</style><div id=\"sk-container-id-7\" class=\"sk-top-container\"><div class=\"sk-text-repr-fallback\"><pre>SVC(C=5, probability=True, random_state=2022)</pre><b>In a Jupyter environment, please rerun this cell to show the HTML representation or trust the notebook. <br />On GitHub, the HTML representation is unable to render, please try loading this page with nbviewer.org.</b></div><div class=\"sk-container\" hidden><div class=\"sk-item\"><div class=\"sk-estimator sk-toggleable\"><input class=\"sk-toggleable__control sk-hidden--visually\" id=\"sk-estimator-id-7\" type=\"checkbox\" checked><label for=\"sk-estimator-id-7\" class=\"sk-toggleable__label sk-toggleable__label-arrow\">SVC</label><div class=\"sk-toggleable__content\"><pre>SVC(C=5, probability=True, random_state=2022)</pre></div></div></div></div></div>"
      ],
      "text/plain": [
       "SVC(C=5, probability=True, random_state=2022)"
      ]
     },
     "execution_count": 132,
     "metadata": {},
     "output_type": "execute_result"
    }
   ],
   "source": [
    "## ======== YOUR CODE HERE ======== ##\n",
    "\n",
    "## parameters: random_state = 2022, C=5, gamma='scale', kernel='rbf', probability=True\n",
    "\n",
    "svm_model = SVC(random_state=2022, C=5, gamma='scale', kernel='rbf', probability=True)\n",
    "svm_model.fit(X_train_scaled,y_train)\n",
    "\n",
    "## ================================ ##"
   ]
  },
  {
   "cell_type": "markdown",
   "metadata": {
    "id": "dnzmj8uaoXdC"
   },
   "source": [
    "#### Plot confusion matrix"
   ]
  },
  {
   "cell_type": "code",
   "execution_count": 133,
   "metadata": {
    "id": "w_82c2Y0n0ed"
   },
   "outputs": [
    {
     "data": {
      "image/png": "[encoded data removed]",
      "text/plain": [
       "<Figure size 432x288 with 2 Axes>"
      ]
     },
     "metadata": {
      "needs_background": "light"
     },
     "output_type": "display_data"
    }
   ],
   "source": [
    "## ======== YOUR CODE HERE ======== ##\n",
    "\n",
    "## Use display labels as per your choice.\n",
    "\n",
    "plot_confusion_matrix(svm_model, X_test_scaled, y_test)\n",
    "plt.show()\n",
    "\n",
    "## ================================ ##"
   ]
  },
  {
   "cell_type": "markdown",
   "metadata": {
    "id": "rXnA65gGoi32"
   },
   "source": [
    "#### Print classification report"
   ]
  },
  {
   "cell_type": "code",
   "execution_count": 134,
   "metadata": {
    "id": "Ni3urDs2ofFu"
   },
   "outputs": [
    {
     "name": "stdout",
     "output_type": "stream",
     "text": [
      "              precision    recall  f1-score   support\n",
      "\n",
      "           0       0.80      0.79      0.80       637\n",
      "           1       0.81      0.81      0.81       667\n",
      "\n",
      "    accuracy                           0.80      1304\n",
      "   macro avg       0.80      0.80      0.80      1304\n",
      "weighted avg       0.80      0.80      0.80      1304\n",
      "\n"
     ]
    }
   ],
   "source": [
    "## ======== YOUR CODE HERE ======== ##\n",
    "\n",
    "pred_svm = svm_model.predict(X_test_scaled)\n",
    "print(classification_report(y_test,pred_svm))\n",
    "\n",
    "## ================================ ##"
   ]
  },
  {
   "cell_type": "markdown",
   "metadata": {
    "id": "TdNZjZ_yosP7"
   },
   "source": [
    "#### Print accuracy score"
   ]
  },
  {
   "cell_type": "code",
   "execution_count": 135,
   "metadata": {
    "id": "YycrkEZrolRo"
   },
   "outputs": [
    {
     "data": {
      "text/plain": [
       "0.8044478527607362"
      ]
     },
     "execution_count": 135,
     "metadata": {},
     "output_type": "execute_result"
    }
   ],
   "source": [
    "## ======== YOUR CODE HERE ======== ##\n",
    "\n",
    "accuracy_score(y_test, pred_svm)\n",
    " \n",
    "## ================================ ##"
   ]
  },
  {
   "cell_type": "markdown",
   "metadata": {
    "id": "eKN9aDzvpGnB"
   },
   "source": [
    "#### Print ROC-AUC score"
   ]
  },
  {
   "cell_type": "code",
   "execution_count": 136,
   "metadata": {
    "id": "XFvSXf3upFix"
   },
   "outputs": [
    {
     "data": {
      "text/plain": [
       "0.8687238013646239"
      ]
     },
     "execution_count": 136,
     "metadata": {},
     "output_type": "execute_result"
    }
   ],
   "source": [
    "## ======== YOUR CODE HERE ======== ##\n",
    "\n",
    "## Note: Use predict_proba!!! Read documentation/google it\n",
    "\n",
    "score_svm = svm_model.predict_proba(X_test_scaled)[:, 1]\n",
    "roc_auc_score(y_test, score_svm)\n",
    "\n",
    "## ================================ ##"
   ]
  },
  {
   "cell_type": "markdown",
   "metadata": {
    "id": "Zfehp2mOqVQy"
   },
   "source": [
    "#### Plot ROC-AUC curve"
   ]
  },
  {
   "cell_type": "code",
   "execution_count": 137,
   "metadata": {
    "id": "Onuzz70ypaUg"
   },
   "outputs": [
    {
     "data": {
      "text/plain": [
       "Text(0, 0.5, 'True Positive rate')"
      ]
     },
     "execution_count": 137,
     "metadata": {},
     "output_type": "execute_result"
    },
    {
     "data": {
      "image/png": "[encoded data removed]",
      "text/plain": [
       "<Figure size 432x288 with 1 Axes>"
      ]
     },
     "metadata": {
      "needs_background": "light"
     },
     "output_type": "display_data"
    }
   ],
   "source": [
    "## ======== YOUR CODE HERE ======== ##\n",
    "\n",
    "## Set appropriate X label, Y label and Title for the graph\n",
    "\n",
    "fpr_svm, tpr_svm, thresholds_svm = roc_curve(y_test, score_svm, pos_label=1)\n",
    "plt.plot(fpr_svm, tpr_svm, linestyle='--',color='blue', label='Support Vector Machines')\n",
    "plt.title('ROC curve')\n",
    "plt.xlabel('False Positive Rate')\n",
    "plt.ylabel('True Positive rate')\n",
    "\n",
    "\n",
    "## ================================ ##"
   ]
  },
  {
   "cell_type": "markdown",
   "metadata": {
    "id": "hA3c9iivrXNy"
   },
   "source": [
    "#### Cross validation"
   ]
  },
  {
   "cell_type": "code",
   "execution_count": 143,
   "metadata": {
    "id": "4O0OlBkXqYYr"
   },
   "outputs": [
    {
     "name": "stdout",
     "output_type": "stream",
     "text": [
      "[0.79093369 0.78755074 0.76454668 0.80514208 0.77386594]\n",
      "0.7844078303037189\n"
     ]
    }
   ],
   "source": [
    "## ======== YOUR CODE HERE ======== ##\n",
    "\n",
    "## cv=5 \n",
    "\n",
    "cv_score_svm = cross_val_score(svm_model, X_train_scaled, y_train, cv=5)\n",
    "print(cv_score_svm)\n",
    "print(cv_score_svm.mean())\n",
    "\n",
    "## ================================ ##"
   ]
  },
  {
   "cell_type": "markdown",
   "metadata": {
    "id": "HvRyJBGxuKIE"
   },
   "source": [
    "# Congratulations! Assignment Completed! "
   ]
  }
 ],
 "metadata": {
  "colab": {
   "collapsed_sections": [],
   "name": "SA2022_W3.ipynb",
   "provenance": []
  },
  "kernelspec": {
   "display_name": "Python 3 (ipykernel)",
   "language": "python",
   "name": "python3"
  },
  "language_info": {
   "codemirror_mode": {
    "name": "ipython",
    "version": 3
   },
   "file_extension": ".py",
   "mimetype": "text/x-python",
   "name": "python",
   "nbconvert_exporter": "python",
   "pygments_lexer": "ipython3",
   "version": "3.9.5"
  }
 },
 "nbformat": 4,
 "nbformat_minor": 1
}
